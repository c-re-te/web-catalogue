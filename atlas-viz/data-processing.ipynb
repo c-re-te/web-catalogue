{
 "cells": [
  {
   "cell_type": "code",
   "execution_count": 2,
   "metadata": {},
   "outputs": [
    {
     "name": "stdout",
     "output_type": "stream",
     "text": [
      "Index(['id', 'autore-0-name', 'autore-0-url', 'autore-0-rif',\n",
      "       'autore-0-ambito', 'autore-0-motiv', 'autore-1-name', 'autore-1-url',\n",
      "       'autore-1-rif', 'autore-1-ambito', 'autore-1-motiv', 'autore-2-name',\n",
      "       'autore-2-url', 'autore-2-rif', 'autore-2-ambito', 'autore-2-motiv',\n",
      "       'autore-3-name', 'autore-3-url', 'autore-3-rif', 'autore-3-ambito',\n",
      "       'autore-3-motiv', 'autore-4-name', 'autore-4-url', 'autore-4-rif',\n",
      "       'autore-4-ambito', 'autore-4-motiv', 'oggetto-def', 'oggetto-id',\n",
      "       'soggetto', 'denominazione', 'tecnica', 'lavorazione', 'descrizione',\n",
      "       'misure', 'loc-0-prov', 'loc-0-comune', 'loc-0-geonames', 'loc-0-lat',\n",
      "       'loc-0-long', 'loc-0-contenitore', 'loc-0-specifica',\n",
      "       'loc-0-isOriginal', 'loc-1-isOriginal', 'loc-1-prov', 'loc-1-comune',\n",
      "       'loc-1-geonames', 'loc-1-contenitore', 'loc-1-specifica', 'loc-1-crono',\n",
      "       'loc-2-isOriginal', 'loc-2-prov', 'loc-2-comune', 'loc-2-geonames',\n",
      "       'loc-2-contenitore', 'loc-2-specifica', 'loc-2-crono',\n",
      "       'loc-3-isOriginal', 'loc-3-prov', 'loc-3-comune', 'loc-3-geonames',\n",
      "       'loc-3-contenitore', 'loc-3-specifica', 'loc-3-crono',\n",
      "       'loc-4-isOriginal', 'loc-4-prov', 'loc-4-comune', 'loc-4-geonames',\n",
      "       'loc-4-contenitore', 'loc-4-specifica', 'loc-4-crono', 'data-da',\n",
      "       'data-a', 'not-storico-critiche', 'stato-conservazione', 'restauro',\n",
      "       'relazioni', 'bibliografia', 'img-path'],\n",
      "      dtype='object')\n"
     ]
    }
   ],
   "source": [
    "import pandas as pd\n",
    "\n",
    "df = pd.read_csv(\"../assets/data/data-test-jan25.csv\")\n",
    "print(df.columns)"
   ]
  },
  {
   "cell_type": "code",
   "execution_count": 3,
   "metadata": {},
   "outputs": [],
   "source": [
    "original_locs = []\n",
    "\n",
    "for idx, row in df.iterrows():\n",
    "    orginal_loc_dict = {}\n",
    "\n",
    "    orginal_loc_dict[\"id\"] = row[\"id\"]\n",
    "    orginal_loc_dict[\"label\"] = row[\"autore-0-name\"] + \": \" + row[\"soggetto\"]\n",
    "    orginal_loc_dict[\"date-from\"] = row[\"data-da\"]\n",
    "    orginal_loc_dict[\"date-to\"] = row[\"data-a\"]\n",
    "    orginal_loc_dict[\"object\"] = row[\"oggetto-def\"]\n",
    "    if row[\"loc-0-isOriginal\"] == \"O\":\n",
    "        orginal_loc_dict[\"loc\"] = row[\"loc-0-comune\"]\n",
    "    elif row[\"loc-1-isOriginal\"] == \"O\":\n",
    "        orginal_loc_dict[\"loc\"] = row[\"loc-1-comune\"]\n",
    "    elif row[\"loc-2-isOriginal\"] == \"O\":\n",
    "        orginal_loc_dict[\"loc\"] = row[\"loc-2-comune\"]\n",
    "    elif row[\"loc-3-isOriginal\"] == \"O\":\n",
    "        orginal_loc_dict[\"loc\"] = row[\"loc-3-comune\"]\n",
    "    elif row[\"loc-4-isOriginal\"] == \"O\":\n",
    "        orginal_loc_dict[\"loc\"] = row[\"loc-4-comune\"]\n",
    "    else:\n",
    "        orginal_loc_dict[\"loc\"] = row[\"loc-0-comune\"]\n",
    "    \n",
    "    original_locs.append(orginal_loc_dict)"
   ]
  },
  {
   "cell_type": "code",
   "execution_count": 4,
   "metadata": {},
   "outputs": [
    {
     "name": "stdout",
     "output_type": "stream",
     "text": [
      "{'Pieve di Coriano', 'Mantova', 'Suzzara, Sailetto', 'Firenze', 'Parigi', 'Sergnano', 'Castel Goffredo', 'Pizzighettone', 'Volta Mantovana, Cereta', 'Soncino', 'Berlino', 'Reggio Emilia', 'Comacchio', 'Sermide, Santa Croce', 'Chicago', 'Izano', 'Goito', 'Pegognaga', 'Ostellato, Libolla', 'Crema', 'Cremosano', 'Castelleone', 'Sabbioneta, Villa Pasquali', 'Castel d’Ario', nan, 'Capergnanica', 'Piacenza', 'Costa di Rovigo', 'Curtatone, San Silvestro', 'San Giorgio Bigarello, Stradella', 'Masi Torello', 'Argenta', 'Asola', 'Pavia', 'Bondeno, Stellata', 'Boston', 'Piubega', 'Cremona', 'Bari', 'Ferrara', 'Durham', 'Migliarino', 'Collezione privata', 'Viadana', 'Bozzolo', 'Parma', 'Revere', 'New York', 'Ripalta Arpina', 'Massa Fiscaglia', 'Suzzara', 'San Benedetto Po', 'Rimini', 'Borgo Virgilio', 'Bologna', 'Lodi', 'Credera Rubbiano', 'Mantova, Frassino', 'Busseto', 'Casalmaggiore', 'Roma', 'Madignano', 'Ceresara', 'Worcester', 'Medole, Annunciata'}\n"
     ]
    }
   ],
   "source": [
    "# Use this snippet to group all the cities in which an artwork is available\n",
    "\"\"\"\n",
    "set_city = set()\n",
    "\n",
    "for el in original_locs:\n",
    "    set_city.add(el[\"loc\"]) \n",
    "\n",
    "print(set_city)\n",
    "\"\"\""
   ]
  },
  {
   "cell_type": "code",
   "execution_count": 5,
   "metadata": {},
   "outputs": [],
   "source": [
    "flourish_df = pd.DataFrame(original_locs)\n",
    "flourish_df = flourish_df[flourish_df[\"loc\"].notna() & (flourish_df[\"loc\"] != \"\") & (flourish_df[\"loc\"] != \"Collezione privata\")]\n"
   ]
  },
  {
   "cell_type": "code",
   "execution_count": 6,
   "metadata": {},
   "outputs": [
    {
     "name": "stdout",
     "output_type": "stream",
     "text": [
      "      id                                           label  date-from  date-to  \\\n",
      "0      1  Maestro degli angeli cantori: testa di giovane       1456     1463   \n",
      "1      2  Maestro degli angeli cantori: testa di giovane       1456     1463   \n",
      "2      3  Maestro degli angeli cantori: testa di giovane       1456     1463   \n",
      "3      4             Maestro degli angeli cantori: busto       1456     1463   \n",
      "4      5             Maestro degli angeli cantori: veste       1456     1463   \n",
      "..   ...                                             ...        ...      ...   \n",
      "381  382                 Antonio Begarelli: Gesù bambino       1520     1560   \n",
      "382  383                      Antonio Begarelli: Pastore       1520     1560   \n",
      "383  384       Anonimo veneto: Dio Padre e Annunciazione       1405     1450   \n",
      "384  385                       Anonimo emiliano: Tritoni       1480     1500   \n",
      "385  386   Gabriele Frisoni: Cavalli marini e mascheroni       1490     1502   \n",
      "\n",
      "                         object      loc  \n",
      "0                       rilievo    Crema  \n",
      "1                       rilievo    Crema  \n",
      "2                       rilievo    Crema  \n",
      "3                       rilievo    Crema  \n",
      "4                       rilievo    Crema  \n",
      "..                          ...      ...  \n",
      "381                      statua  Ferrara  \n",
      "382                      statua  Ferrara  \n",
      "383  decorazione architettonica  Ferrara  \n",
      "384  decorazione architettonica  Ferrara  \n",
      "385  decorazione architettonica  Ferrara  \n",
      "\n",
      "[372 rows x 6 columns]\n"
     ]
    }
   ],
   "source": [
    "print(flourish_df)"
   ]
  },
  {
   "cell_type": "code",
   "execution_count": 7,
   "metadata": {},
   "outputs": [],
   "source": [
    "### Tabella di conversioni\n",
    "\n",
    "coords_dict = {\n",
    "    \"Borgo Virgilio\": (45.1167, 10.7833),\n",
    "    \"Crema\": (45.3646, 9.6818),\n",
    "    \"Pizzighettone\": (45.1833, 9.8),\n",
    "    \"Asola\": (45.2, 10.4167),\n",
    "    \"San Benedetto Po\": (45.0333, 10.9333),\n",
    "    \"Migliarino\": (44.8, 11.9333),\n",
    "    \"Ferrara\": (44.8354, 11.6196),\n",
    "    \"Soncino\": (45.4, 9.8667),\n",
    "    \"Sergnano\": (45.4167, 9.6667),\n",
    "    \"Capergnanica\": (45.3333, 9.6667),\n",
    "    \"Castel Goffredo\": (45.3, 10.5),\n",
    "    \"San Giorgio Bigarello\": (45.2, 10.8833),\n",
    "    \"Stradella\": (45.0833, 9.3),\n",
    "    \"Suzzara\": (45.0333, 10.75),\n",
    "    \"Massa Fiscaglia\": (44.85, 11.9167),\n",
    "    \"Medole\": (45.3, 10.5),\n",
    "    \"Annunciata\": (45.2, 10.4167),\n",
    "    \"Credera Rubbiano\": (45.3, 9.7),\n",
    "    \"Revere\": (45.05, 11.1167),\n",
    "    \"Bari\": (41.1253, 16.8667),\n",
    "    \"Castel d’Ario\": (45.2, 10.9833),\n",
    "    \"Castelleone\": (45.3, 9.7667),\n",
    "    \"Izano\": (45.3333, 9.7),\n",
    "    \"Viadana\": (44.9167, 10.5167),\n",
    "    \"Ostellato\": (44.75, 11.8667),\n",
    "    \"Libolla\": (44.8, 11.9333),\n",
    "    \"Piacenza\": (45.05, 9.7),\n",
    "    \"Berlino\": (52.5244, 13.4105),\n",
    "    \"Bondeno\": (44.9, 11.4167),\n",
    "    \"Stellata\": (44.9, 11.4167),\n",
    "    \"Parigi\": (48.8534, 2.3488),\n",
    "    \"New York\": (40.7143, -74.006),\n",
    "    \"Pieve di Coriano\": (45.05, 11.1167),\n",
    "    \"Casalmaggiore\": (44.9833, 10.4167),\n",
    "    \"Mantova\": (45.15, 10.8),\n",
    "    \"Pavia\": (45.1833, 9.15),\n",
    "    \"Bozzolo\": (45.05, 10.5167),\n",
    "    \"Curtatone\": (45.15, 10.7333),\n",
    "    \"San Silvestro\": (45.15, 10.7333),\n",
    "    \"Masi Torello\": (44.8, 11.7833),\n",
    "    \"Bologna\": (44.4938, 11.3387),\n",
    "    \"Roma\": (41.8947, 12.4813),\n",
    "    \"Chicago\": (41.85, -87.65),\n",
    "    \"Ripalta Arpina\": (45.3333, 9.7),\n",
    "    \"Cremosano\": (45.3667, 9.6167),\n",
    "    \"Volta Mantovana\": (45.3, 10.65),\n",
    "    \"Cereta\": (45.3, 10.65),\n",
    "    \"Rimini\": (44.0633, 12.5808),\n",
    "    \"Costa di Rovigo\": (45.0333, 11.7833),\n",
    "    \"Comacchio\": (44.6925, 12.1822),\n",
    "    \"Reggio Emilia\": (44.6983, 10.6313),\n",
    "    \"Madignano\": (45.3333, 9.7),\n",
    "    \"Sailetto\": (45.0333, 10.75),\n",
    "    \"Sermide\": (45.0167, 11.3),\n",
    "    \"Santa Croce\": (45.0167, 11.3),\n",
    "    \"Piubega\": (45.2667, 10.5167),\n",
    "    \"Firenze\": (43.7667, 11.25),\n",
    "    \"Boston\": (42.3584, -71.0598),\n",
    "    \"Parma\": (44.8, 10.3333),\n",
    "    \"Sabbioneta\": (44.9833, 10.4833),\n",
    "    \"Villa Pasquali\": (44.9833, 10.4833),\n",
    "    \"Cremona\": (45.1333, 10.0333),\n",
    "    \"Ceresara\": (45.2667, 10.5667),\n",
    "    \"Lodi\": (45.3167, 9.5),\n",
    "    \"Goito\": (45.2667, 10.7),\n",
    "}"
   ]
  },
  {
   "cell_type": "code",
   "execution_count": 8,
   "metadata": {},
   "outputs": [
    {
     "name": "stdout",
     "output_type": "stream",
     "text": [
      "      id                                           label  date-from  date-to  \\\n",
      "0      1  Maestro degli angeli cantori: testa di giovane       1456     1463   \n",
      "1      2  Maestro degli angeli cantori: testa di giovane       1456     1463   \n",
      "2      3  Maestro degli angeli cantori: testa di giovane       1456     1463   \n",
      "3      4             Maestro degli angeli cantori: busto       1456     1463   \n",
      "4      5             Maestro degli angeli cantori: veste       1456     1463   \n",
      "..   ...                                             ...        ...      ...   \n",
      "381  382                 Antonio Begarelli: Gesù bambino       1520     1560   \n",
      "382  383                      Antonio Begarelli: Pastore       1520     1560   \n",
      "383  384       Anonimo veneto: Dio Padre e Annunciazione       1405     1450   \n",
      "384  385                       Anonimo emiliano: Tritoni       1480     1500   \n",
      "385  386   Gabriele Frisoni: Cavalli marini e mascheroni       1490     1502   \n",
      "\n",
      "                         object      loc      lat     long  \n",
      "0                       rilievo    Crema  45.3646   9.6818  \n",
      "1                       rilievo    Crema  45.3646   9.6818  \n",
      "2                       rilievo    Crema  45.3646   9.6818  \n",
      "3                       rilievo    Crema  45.3646   9.6818  \n",
      "4                       rilievo    Crema  45.3646   9.6818  \n",
      "..                          ...      ...      ...      ...  \n",
      "381                      statua  Ferrara  44.8354  11.6196  \n",
      "382                      statua  Ferrara  44.8354  11.6196  \n",
      "383  decorazione architettonica  Ferrara  44.8354  11.6196  \n",
      "384  decorazione architettonica  Ferrara  44.8354  11.6196  \n",
      "385  decorazione architettonica  Ferrara  44.8354  11.6196  \n",
      "\n",
      "[372 rows x 8 columns]\n"
     ]
    }
   ],
   "source": [
    "#print(coords_dict[\"Goito\"][0])\n",
    "\n",
    "flourish_df[\"coords\"] = flourish_df[\"loc\"].map(coords_dict)\n",
    "\n",
    "# Separare latitudine e longitudine in colonne distinte\n",
    "flourish_df[[\"lat\", \"long\"]] = pd.DataFrame(flourish_df[\"coords\"].tolist(), index=flourish_df.index)\n",
    "\n",
    "# Rimuoviamo la colonna temporanea delle coordinate (se non necessaria)\n",
    "flourish_df.drop(columns=[\"coords\"], inplace=True)\n",
    "\n",
    "print(flourish_df)"
   ]
  },
  {
   "cell_type": "code",
   "execution_count": 23,
   "metadata": {},
   "outputs": [],
   "source": [
    "# flourish_df.to_excel(\"output.xlsx\", index=False)"
   ]
  }
 ],
 "metadata": {
  "kernelspec": {
   "display_name": "Python 3",
   "language": "python",
   "name": "python3"
  },
  "language_info": {
   "codemirror_mode": {
    "name": "ipython",
    "version": 3
   },
   "file_extension": ".py",
   "mimetype": "text/x-python",
   "name": "python",
   "nbconvert_exporter": "python",
   "pygments_lexer": "ipython3",
   "version": "3.10.0"
  }
 },
 "nbformat": 4,
 "nbformat_minor": 2
}
